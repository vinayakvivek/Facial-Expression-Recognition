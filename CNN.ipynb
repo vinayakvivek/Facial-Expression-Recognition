{
 "cells": [
  {
   "cell_type": "code",
   "execution_count": 9,
   "metadata": {
    "collapsed": false,
    "deletable": true,
    "editable": true
   },
   "outputs": [],
   "source": [
    "import matplotlib\n",
    "import matplotlib.pyplot as plt\n",
    "import matplotlib.cm as cm\n",
    "\n",
    "from urllib import urlretrieve\n",
    "import cPickle as pickle\n",
    "import os\n",
    "import gzip\n",
    "\n",
    "import numpy as np\n",
    "import theano\n",
    "\n",
    "import lasagne\n",
    "from lasagne import layers\n",
    "from lasagne.updates import nesterov_momentum\n",
    "\n",
    "from nolearn.lasagne import NeuralNet\n",
    "from nolearn.lasagne import visualize\n",
    "\n",
    "from sklearn.metrics import classification_report\n",
    "from sklearn.metrics import confusion_matrix\n",
    "\n",
    "import pandas as pd\n",
    "import time"
   ]
  },
  {
   "cell_type": "code",
   "execution_count": 10,
   "metadata": {
    "collapsed": true,
    "deletable": true,
    "editable": true
   },
   "outputs": [],
   "source": [
    "data = pd.read_csv('data/fer2013.csv')"
   ]
  },
  {
   "cell_type": "code",
   "execution_count": 11,
   "metadata": {
    "collapsed": false,
    "deletable": true,
    "editable": true
   },
   "outputs": [
    {
     "name": "stdout",
     "output_type": "stream",
     "text": [
      "reading done in 45.850110 sec\n"
     ]
    }
   ],
   "source": [
    "training_image = []\n",
    "training_label_full = []\n",
    "test_image = []\n",
    "test_label_full = []\n",
    "\n",
    "start_time = time.time()\n",
    "for index, row in data.iterrows():\n",
    "    if row['Usage'] == 'Training':\n",
    "        training_image.append(np.reshape(np.array(row['pixels'].split(), dtype=np.uint8), (48, 48)))\n",
    "        training_label_full.append(row['emotion'])\n",
    "    else:\n",
    "        test_image.append(np.reshape(np.array(row['pixels'].split(), dtype=np.uint8), (48, 48)))\n",
    "        test_label_full.append(row['emotion'])\n",
    "        \n",
    "print('reading done in %f sec' % (time.time() - start_time))"
   ]
  },
  {
   "cell_type": "code",
   "execution_count": 18,
   "metadata": {
    "collapsed": false,
    "deletable": true,
    "editable": true
   },
   "outputs": [],
   "source": [
    "X_train = np.array(training_image).reshape((-1, 1, 48, 48))\n",
    "X_test = np.array(test_image).reshape((-1, 1, 48, 48))\n",
    "\n",
    "y_train = np.array(training_label_full, dtype=np.uint8)\n",
    "y_test = np.array(test_label_full, dtype=np.uint8)"
   ]
  },
  {
   "cell_type": "code",
   "execution_count": 26,
   "metadata": {
    "collapsed": false
   },
   "outputs": [
    {
     "name": "stderr",
     "output_type": "stream",
     "text": [
      "INFO (theano.gof.compilelock): Refreshing lock /Users/vinayakvivek/.theano/compiledir_Darwin-16.1.0-x86_64-i386-64bit-i386-2.7.13-64/lock_dir/lock\n"
     ]
    },
    {
     "name": "stdout",
     "output_type": "stream",
     "text": [
      "# Neural Network with 692071 learnable parameters\n",
      "\n",
      "## Layer information\n",
      "\n",
      "  #  name      size\n",
      "---  --------  --------\n",
      "  0  input     1x48x48\n",
      "  1  conv2d1   32x44x44\n",
      "  2  maxpool1  32x22x22\n",
      "  3  conv2d2   32x18x18\n",
      "  4  maxpool2  32x9x9\n",
      "  5  dropout1  32x9x9\n",
      "  6  dense     256\n",
      "  7  dropout2  256\n",
      "  8  output    7\n",
      "\n",
      "  epoch    trn loss    val loss    trn/val    valid acc  dur\n",
      "-------  ----------  ----------  ---------  -----------  -------\n",
      "      1     \u001b[36m2.87870\u001b[0m     \u001b[32m1.83391\u001b[0m    1.56971      0.25139  143.24s\n",
      "      2     \u001b[36m1.83347\u001b[0m     \u001b[32m1.81657\u001b[0m    1.00930      0.25035  136.11s\n",
      "      3     \u001b[36m1.82627\u001b[0m     \u001b[32m1.81321\u001b[0m    1.00720      0.25104  166.93s\n",
      "nn fit done in 488.192303 sec\n"
     ]
    }
   ],
   "source": [
    "net1 = NeuralNet(\n",
    "    layers=[('input', layers.InputLayer),\n",
    "            ('conv2d1', layers.Conv2DLayer),\n",
    "            ('maxpool1', layers.MaxPool2DLayer),\n",
    "            ('conv2d2', layers.Conv2DLayer),\n",
    "            ('maxpool2', layers.MaxPool2DLayer),\n",
    "            ('dropout1', layers.DropoutLayer),\n",
    "            ('dense', layers.DenseLayer),\n",
    "            ('dropout2', layers.DropoutLayer),\n",
    "            ('output', layers.DenseLayer),\n",
    "            ],\n",
    "    # input layer\n",
    "    input_shape=(None, 1, 48, 48),\n",
    "    # layer conv2d1\n",
    "    conv2d1_num_filters=32,\n",
    "    conv2d1_filter_size=(5, 5),\n",
    "    conv2d1_nonlinearity=lasagne.nonlinearities.rectify,\n",
    "    conv2d1_W=lasagne.init.GlorotUniform(),  \n",
    "    # layer maxpool1\n",
    "    maxpool1_pool_size=(2, 2),    \n",
    "    # layer conv2d2\n",
    "    conv2d2_num_filters=32,\n",
    "    conv2d2_filter_size=(5, 5),\n",
    "    conv2d2_nonlinearity=lasagne.nonlinearities.rectify,\n",
    "    # layer maxpool2\n",
    "    maxpool2_pool_size=(2, 2),\n",
    "    # dropout1\n",
    "    dropout1_p=0.5,    \n",
    "    # dense\n",
    "    dense_num_units=256,\n",
    "    dense_nonlinearity=lasagne.nonlinearities.rectify,    \n",
    "    # dropout2\n",
    "    dropout2_p=0.5,    \n",
    "    # output\n",
    "    output_nonlinearity=lasagne.nonlinearities.softmax,\n",
    "    output_num_units=7,\n",
    "    # optimization method params\n",
    "    update=nesterov_momentum,\n",
    "    update_learning_rate=0.001,\n",
    "    update_momentum=0.9,\n",
    "    max_epochs=10,\n",
    "    verbose=1,\n",
    "    )\n",
    "\n",
    "# Train the network\n",
    "start_time = time.time()\n",
    "nn = net1.fit(X_train, y_train)\n",
    "print('nn fit done in %f sec' % (time.time() - start_time))"
   ]
  },
  {
   "cell_type": "code",
   "execution_count": 20,
   "metadata": {
    "collapsed": false
   },
   "outputs": [
    {
     "name": "stdout",
     "output_type": "stream",
     "text": [
      "prediction done in 14.467163 sec\n"
     ]
    }
   ],
   "source": [
    "start_time = time.time()\n",
    "preds = net1.predict(X_test)\n",
    "print('prediction done in %f sec' % (time.time() - start_time))"
   ]
  },
  {
   "cell_type": "code",
   "execution_count": 22,
   "metadata": {
    "collapsed": false
   },
   "outputs": [
    {
     "data": {
      "image/png": "[encoded data removed]",
      "text/plain": [
       "<matplotlib.figure.Figure at 0x10c3b5bd0>"
      ]
     },
     "metadata": {},
     "output_type": "display_data"
    },
    {
     "name": "stdout",
     "output_type": "stream",
     "text": [
      "0.247144051268\n"
     ]
    }
   ],
   "source": [
    "cm = confusion_matrix(y_test, preds)\n",
    "plt.matshow(cm)\n",
    "plt.title('Confusion matrix')\n",
    "plt.colorbar()\n",
    "plt.ylabel('True label')\n",
    "plt.xlabel('Predicted label')\n",
    "plt.show()\n",
    "\n",
    "print(np.mean(y_test == preds))"
   ]
  },
  {
   "cell_type": "code",
   "execution_count": 2,
   "metadata": {
    "collapsed": false,
    "deletable": true,
    "editable": true
   },
   "outputs": [
    {
     "name": "stdout",
     "output_type": "stream",
     "text": [
      "3\n",
      "((50000, 784), (50000,))\n",
      "((50000, 1, 28, 28), (50000,))\n"
     ]
    },
    {
     "data": {
      "text/plain": [
       "<matplotlib.image.AxesImage at 0x10966c810>"
      ]
     },
     "execution_count": 2,
     "metadata": {},
     "output_type": "execute_result"
    }
   ],
   "source": [
    "def load_dataset():\n",
    "    url = 'http://deeplearning.net/data/mnist/mnist.pkl.gz'\n",
    "    filename = 'mnist.pkl.gz'\n",
    "    if not os.path.exists(filename):\n",
    "        print(\"Downloading MNIST dataset...\")\n",
    "        urlretrieve(url, filename)\n",
    "\n",
    "    with gzip.open(filename, 'rb') as f:\n",
    "        data = pickle.load(f)\n",
    "        \n",
    "    print(len(data))\n",
    "\n",
    "    X_train, y_train = data[0]\n",
    "    X_val, y_val = data[1]\n",
    "    X_test, y_test = data[2]\n",
    "    \n",
    "    print(X_train.shape, y_train.shape)\n",
    "\n",
    "    X_train = X_train.reshape((-1, 1, 28, 28))\n",
    "    X_val = X_val.reshape((-1, 1, 28, 28))\n",
    "    X_test = X_test.reshape((-1, 1, 28, 28))\n",
    "    \n",
    "    print(X_train.shape, y_train.shape)\n",
    "\n",
    "    y_train = y_train.astype(np.uint8)\n",
    "    y_val = y_val.astype(np.uint8)\n",
    "    y_test = y_test.astype(np.uint8)\n",
    "\n",
    "    return X_train, y_train, X_val, y_val, X_test, y_test\n",
    "\n",
    "X_train, y_train, X_val, y_val, X_test, y_test = load_dataset()\n",
    "plt.imshow(X_train[0][0], cmap=cm.binary)\n",
    "\n"
   ]
  },
  {
   "cell_type": "code",
   "execution_count": 4,
   "metadata": {
    "collapsed": false,
    "deletable": true,
    "editable": true
   },
   "outputs": [
    {
     "name": "stderr",
     "output_type": "stream",
     "text": [
      "INFO (theano.gof.compilelock): Refreshing lock /Users/vinayakvivek/.theano/compiledir_Darwin-16.1.0-x86_64-i386-64bit-i386-2.7.13-64/lock_dir/lock\n"
     ]
    },
    {
     "name": "stdout",
     "output_type": "stream",
     "text": [
      "# Neural Network with 160362 learnable parameters\n",
      "\n",
      "## Layer information\n",
      "\n",
      "  #  name      size\n",
      "---  --------  --------\n",
      "  0  input     1x28x28\n",
      "  1  conv2d1   32x24x24\n",
      "  2  maxpool1  32x12x12\n",
      "  3  conv2d2   32x8x8\n",
      "  4  maxpool2  32x4x4\n",
      "  5  dropout1  32x4x4\n",
      "  6  dense     256\n",
      "  7  dropout2  256\n",
      "  8  output    10\n",
      "\n",
      "  epoch    trn loss    val loss    trn/val    valid acc  dur\n",
      "-------  ----------  ----------  ---------  -----------  ------\n",
      "      1     \u001b[36m0.77610\u001b[0m     \u001b[32m0.14880\u001b[0m    5.21567      0.95682  62.77s\n",
      "      2     \u001b[36m0.25369\u001b[0m     \u001b[32m0.10102\u001b[0m    2.51117      0.97011  59.74s\n",
      "      3     \u001b[36m0.18693\u001b[0m     \u001b[32m0.08196\u001b[0m    2.28072      0.97611  62.10s\n",
      "      4     \u001b[36m0.15143\u001b[0m     \u001b[32m0.06982\u001b[0m    2.16882      0.97961  60.68s\n",
      "      5     \u001b[36m0.12933\u001b[0m     \u001b[32m0.06132\u001b[0m    2.10920      0.98141  62.01s\n",
      "      6     \u001b[36m0.11582\u001b[0m     \u001b[32m0.05595\u001b[0m    2.07027      0.98431  62.36s\n",
      "      7     \u001b[36m0.10763\u001b[0m     \u001b[32m0.05145\u001b[0m    2.09195      0.98461  59.78s\n",
      "      8     \u001b[36m0.09658\u001b[0m     \u001b[32m0.04943\u001b[0m    1.95375      0.98521  59.33s\n",
      "      9     \u001b[36m0.09106\u001b[0m     \u001b[32m0.04682\u001b[0m    1.94504      0.98621  58.30s\n",
      "     10     \u001b[36m0.08460\u001b[0m     \u001b[32m0.04645\u001b[0m    1.82105      0.98701  57.21s\n",
      "nn fit done in 635.716188 sec\n"
     ]
    }
   ],
   "source": [
    "net1 = NeuralNet(\n",
    "    layers=[('input', layers.InputLayer),\n",
    "            ('conv2d1', layers.Conv2DLayer),\n",
    "            ('maxpool1', layers.MaxPool2DLayer),\n",
    "            ('conv2d2', layers.Conv2DLayer),\n",
    "            ('maxpool2', layers.MaxPool2DLayer),\n",
    "            ('dropout1', layers.DropoutLayer),\n",
    "            ('dense', layers.DenseLayer),\n",
    "            ('dropout2', layers.DropoutLayer),\n",
    "            ('output', layers.DenseLayer),\n",
    "            ],\n",
    "    # input layer\n",
    "    input_shape=(None, 1, 28, 28),\n",
    "    # layer conv2d1\n",
    "    conv2d1_num_filters=32,\n",
    "    conv2d1_filter_size=(5, 5),\n",
    "    conv2d1_nonlinearity=lasagne.nonlinearities.rectify,\n",
    "    conv2d1_W=lasagne.init.GlorotUniform(),  \n",
    "    # layer maxpool1\n",
    "    maxpool1_pool_size=(2, 2),    \n",
    "    # layer conv2d2\n",
    "    conv2d2_num_filters=32,\n",
    "    conv2d2_filter_size=(5, 5),\n",
    "    conv2d2_nonlinearity=lasagne.nonlinearities.rectify,\n",
    "    # layer maxpool2\n",
    "    maxpool2_pool_size=(2, 2),\n",
    "    # dropout1\n",
    "    dropout1_p=0.5,    \n",
    "    # dense\n",
    "    dense_num_units=256,\n",
    "    dense_nonlinearity=lasagne.nonlinearities.rectify,    \n",
    "    # dropout2\n",
    "    dropout2_p=0.5,    \n",
    "    # output\n",
    "    output_nonlinearity=lasagne.nonlinearities.softmax,\n",
    "    output_num_units=10,\n",
    "    # optimization method params\n",
    "    update=nesterov_momentum,\n",
    "    update_learning_rate=0.01,\n",
    "    update_momentum=0.9,\n",
    "    max_epochs=10,\n",
    "    verbose=1,\n",
    "    )\n",
    "\n",
    "# Train the network\n",
    "start_time = time.time()\n",
    "nn = net1.fit(X_train, y_train)\n",
    "\n",
    "print('nn fit done in %f sec' % (time.time() - start_time))"
   ]
  },
  {
   "cell_type": "code",
   "execution_count": 5,
   "metadata": {
    "collapsed": false,
    "deletable": true,
    "editable": true
   },
   "outputs": [
    {
     "name": "stdout",
     "output_type": "stream",
     "text": [
      "prediction done in 4.531349 sec\n"
     ]
    }
   ],
   "source": [
    "start_time = time.time()\n",
    "preds = net1.predict(X_test)\n",
    "print('prediction done in %f sec' % (time.time() - start_time))"
   ]
  },
  {
   "cell_type": "code",
   "execution_count": 6,
   "metadata": {
    "collapsed": false
   },
   "outputs": [
    {
     "data": {
      "image/png": "[encoded data removed]",
      "text/plain": [
       "<matplotlib.figure.Figure at 0x1095d55d0>"
      ]
     },
     "metadata": {},
     "output_type": "display_data"
    },
    {
     "data": {
      "image/png": "[encoded data removed]",
      "text/plain": [
       "<matplotlib.figure.Figure at 0x10501fed0>"
      ]
     },
     "metadata": {},
     "output_type": "display_data"
    }
   ],
   "source": [
    "cm = confusion_matrix(y_test, preds)\n",
    "plt.matshow(cm)\n",
    "plt.title('Confusion matrix')\n",
    "plt.colorbar()\n",
    "plt.ylabel('True label')\n",
    "plt.xlabel('Predicted label')\n",
    "plt.show()"
   ]
  },
  {
   "cell_type": "code",
   "execution_count": null,
   "metadata": {
    "collapsed": true
   },
   "outputs": [],
   "source": []
  }
 ],
 "metadata": {
  "kernelspec": {
   "display_name": "Python 2",
   "language": "python",
   "name": "python2"
  },
  "language_info": {
   "codemirror_mode": {
    "name": "ipython",
    "version": 2
   },
   "file_extension": ".py",
   "mimetype": "text/x-python",
   "name": "python",
   "nbconvert_exporter": "python",
   "pygments_lexer": "ipython2",
   "version": "2.7.13"
  }
 },
 "nbformat": 4,
 "nbformat_minor": 2
}
