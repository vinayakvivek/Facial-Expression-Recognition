{
 "cells": [
  {
   "cell_type": "code",
   "execution_count": 1,
   "metadata": {
    "collapsed": true,
    "deletable": true,
    "editable": true
   },
   "outputs": [],
   "source": [
    "import cv2 as cv\n",
    "import pandas as pd\n",
    "import numpy as np\n",
    "import matplotlib.pyplot as plt\n",
    "import dlib\n",
    "import tensorflow as tf"
   ]
  },
  {
   "cell_type": "code",
   "execution_count": 2,
   "metadata": {
    "collapsed": true,
    "deletable": true,
    "editable": true
   },
   "outputs": [],
   "source": [
    "data = pd.read_csv('data/fer2013.csv')"
   ]
  },
  {
   "cell_type": "code",
   "execution_count": 11,
   "metadata": {
    "collapsed": true,
    "deletable": true,
    "editable": true
   },
   "outputs": [],
   "source": [
    "# N = 1000\n",
    "D = data"
   ]
  },
  {
   "cell_type": "code",
   "execution_count": 12,
   "metadata": {
    "collapsed": true,
    "deletable": true,
    "editable": true
   },
   "outputs": [],
   "source": [
    "train_image = []\n",
    "train_label = []\n",
    "test_image = []\n",
    "test_label = []\n",
    "\n",
    "for index, row in D.iterrows():\n",
    "    if row['Usage'] == 'Training':\n",
    "        train_image.append(np.array(row['pixels'].split(), dtype=np.uint8))\n",
    "        train_label.append(row['emotion'])\n",
    "    else:\n",
    "        test_image.append(np.array(row['pixels'].split(), dtype=np.uint8))\n",
    "        test_label.append(row['emotion'])\n",
    "        \n",
    "train_image = np.array(train_image)\n",
    "test_image = np.array(test_image)\n",
    "\n",
    "train_label_one_hot = tf.Session().run(tf.one_hot(train_label, depth=7, on_value=1, off_value=0))\n",
    "test_label_one_hot = tf.Session().run(tf.one_hot(test_label, depth=7, on_value=1, off_value=0))"
   ]
  },
  {
   "cell_type": "code",
   "execution_count": 13,
   "metadata": {
    "collapsed": false,
    "deletable": true,
    "editable": true
   },
   "outputs": [
    {
     "name": "stdout",
     "output_type": "stream",
     "text": [
      "('tf init time - ', 0.0976400375366211)\n"
     ]
    }
   ],
   "source": [
    "import time\n",
    "\n",
    "no_of_features = 48 * 48\n",
    "no_of_classes = 7\n",
    "x = tf.placeholder(tf.float32, [None, no_of_features])\n",
    "W = tf.Variable(tf.zeros([no_of_features, no_of_classes]))\n",
    "b = tf.Variable(tf.zeros([no_of_classes]))\n",
    "y = tf.matmul(x, W) + b\n",
    "\n",
    "# Define loss and optimizer\n",
    "y_ = tf.placeholder(tf.float32, [None, no_of_classes])\n",
    "\n",
    "cross_entropy = tf.reduce_mean(tf.nn.softmax_cross_entropy_with_logits(labels=y_, logits=y))\n",
    "\n",
    "train_step = tf.train.GradientDescentOptimizer(0.5).minimize(cross_entropy)\n",
    "\n",
    "start_time = time.time()\n",
    "sess = tf.InteractiveSession()\n",
    "tf.global_variables_initializer().run()\n",
    "\n",
    "print('tf init time - ', time.time() - start_time)"
   ]
  },
  {
   "cell_type": "code",
   "execution_count": 14,
   "metadata": {
    "collapsed": true,
    "deletable": true,
    "editable": true
   },
   "outputs": [
    {
     "name": "stdout",
     "output_type": "stream",
     "text": [
      "0\n",
      "50\n",
      "100\n",
      "150\n",
      "200\n",
      "250\n",
      "300\n",
      "350\n",
      "400\n",
      "450\n",
      "500\n",
      "550\n",
      "600\n",
      "650\n",
      "700\n",
      "750\n",
      "800\n",
      "850\n",
      "900\n",
      "950\n",
      "('tf run time - ', 622.0781359672546)\n"
     ]
    }
   ],
   "source": [
    "start_time = time.time()\n",
    "for _ in range(1000):\n",
    "    if _ % 50 == 0:\n",
    "        print(_)\n",
    "    sess.run(train_step, feed_dict={x: train_image, y_: train_label_one_hot})\n",
    "\n",
    "print('tf run time - ', time.time() - start_time)"
   ]
  },
  {
   "cell_type": "code",
   "execution_count": 16,
   "metadata": {
    "collapsed": false,
    "deletable": true,
    "editable": true
   },
   "outputs": [
    {
     "name": "stdout",
     "output_type": "stream",
     "text": [
      "0.255224\n",
      "('tf test time - ', 0.25659990310668945)\n"
     ]
    }
   ],
   "source": [
    "# Test trained model\n",
    "start_time = time.time()\n",
    "correct_prediction = tf.equal(tf.argmax(y, 1), tf.argmax(y_, 1))\n",
    "accuracy = tf.reduce_mean(tf.cast(correct_prediction, tf.float32))\n",
    "print(sess.run(accuracy, feed_dict={x: test_image, y_: test_label_one_hot}))\n",
    "\n",
    "print('tf test time - ', time.time() - start_time)"
   ]
  }
 ],
 "metadata": {
  "kernelspec": {
   "display_name": "Python 2",
   "language": "python",
   "name": "python2"
  },
  "language_info": {
   "codemirror_mode": {
    "name": "ipython",
    "version": 2
   },
   "file_extension": ".py",
   "mimetype": "text/x-python",
   "name": "python",
   "nbconvert_exporter": "python",
   "pygments_lexer": "ipython2",
   "version": "2.7.13"
  }
 },
 "nbformat": 4,
 "nbformat_minor": 2
}
