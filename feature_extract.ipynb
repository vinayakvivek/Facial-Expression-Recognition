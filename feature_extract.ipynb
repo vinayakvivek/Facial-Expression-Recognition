{
 "cells": [
  {
   "cell_type": "code",
   "execution_count": 5,
   "metadata": {
    "collapsed": true,
    "deletable": true,
    "editable": true
   },
   "outputs": [],
   "source": [
    "import cv2 as cv\n",
    "import pandas as pd\n",
    "import numpy as np\n",
    "import matplotlib.pyplot as plt\n",
    "import dlib\n",
    "import time"
   ]
  },
  {
   "cell_type": "code",
   "execution_count": 6,
   "metadata": {
    "collapsed": true,
    "deletable": true,
    "editable": true
   },
   "outputs": [],
   "source": [
    "detector = dlib.get_frontal_face_detector() #Face detector\n",
    "predictor = dlib.shape_predictor('shape_predictor_68_face_landmarks.dat')"
   ]
  },
  {
   "cell_type": "code",
   "execution_count": 7,
   "metadata": {
    "collapsed": true,
    "deletable": true,
    "editable": true
   },
   "outputs": [],
   "source": [
    "data = pd.read_csv('data/fer2013.csv')"
   ]
  },
  {
   "cell_type": "code",
   "execution_count": 8,
   "metadata": {
    "collapsed": false,
    "deletable": true,
    "editable": true
   },
   "outputs": [
    {
     "data": {
      "text/html": [
       "<div>\n",
       "<table border=\"1\" class=\"dataframe\">\n",
       "  <thead>\n",
       "    <tr style=\"text-align: right;\">\n",
       "      <th></th>\n",
       "      <th>emotion</th>\n",
       "      <th>pixels</th>\n",
       "    </tr>\n",
       "    <tr>\n",
       "      <th>Usage</th>\n",
       "      <th></th>\n",
       "      <th></th>\n",
       "    </tr>\n",
       "  </thead>\n",
       "  <tbody>\n",
       "    <tr>\n",
       "      <th>PrivateTest</th>\n",
       "      <td>3589</td>\n",
       "      <td>3589</td>\n",
       "    </tr>\n",
       "    <tr>\n",
       "      <th>PublicTest</th>\n",
       "      <td>3589</td>\n",
       "      <td>3589</td>\n",
       "    </tr>\n",
       "    <tr>\n",
       "      <th>Training</th>\n",
       "      <td>28709</td>\n",
       "      <td>28709</td>\n",
       "    </tr>\n",
       "  </tbody>\n",
       "</table>\n",
       "</div>"
      ],
      "text/plain": [
       "             emotion  pixels\n",
       "Usage                       \n",
       "PrivateTest     3589    3589\n",
       "PublicTest      3589    3589\n",
       "Training       28709   28709"
      ]
     },
     "execution_count": 8,
     "metadata": {},
     "output_type": "execute_result"
    }
   ],
   "source": [
    "'''\n",
    "0 - Anger\n",
    "1 - Disgust\n",
    "2 - Fear\n",
    "3 - Happiness\n",
    "4 - Sadness\n",
    "5 - Surprise\n",
    "6 - Neutral\n",
    "'''\n",
    "\n",
    "N = 1000\n",
    "D = data\n",
    "data.groupby('Usage').count()"
   ]
  },
  {
   "cell_type": "code",
   "execution_count": 9,
   "metadata": {
    "collapsed": false,
    "deletable": true,
    "editable": true
   },
   "outputs": [
    {
     "name": "stdout",
     "output_type": "stream",
     "text": [
      "time taken - 43.120812 sec\n"
     ]
    }
   ],
   "source": [
    "training_image = []\n",
    "training_label_full = []\n",
    "test_image = []\n",
    "test_label_full = []\n",
    "\n",
    "start_time = time.time()\n",
    "for index, row in D.iterrows():\n",
    "    if row['Usage'] == 'Training':\n",
    "        training_image.append(np.reshape(np.array(row['pixels'].split(), dtype=np.uint8), (48, 48)))\n",
    "        training_label_full.append(row['emotion'])\n",
    "    else:\n",
    "        test_image.append(np.reshape(np.array(row['pixels'].split(), dtype=np.uint8), (48, 48)))\n",
    "        test_label_full.append(row['emotion'])\n",
    "        \n",
    "print('time taken - %f sec'%(time.time() - start_time))"
   ]
  },
  {
   "cell_type": "code",
   "execution_count": 10,
   "metadata": {
    "collapsed": false,
    "deletable": true,
    "editable": true
   },
   "outputs": [],
   "source": [
    "def get_landmarks(_image):\n",
    "    image = _image.copy()\n",
    "    detections = detector(image, 1)\n",
    "    for k,d in enumerate(detections): #For all detected face instances individually\n",
    "        shape = predictor(image, d) #Draw Facial Landmarks with the predictor class\n",
    "        xlist = []\n",
    "        ylist = []\n",
    "        for i in range(1,68): #Store X and Y coordinates in two lists\n",
    "            xlist.append(float(shape.part(i).x))\n",
    "            ylist.append(float(shape.part(i).y))\n",
    "                \n",
    "#         xmean = np.mean(xlist) #Get the mean of both axes to determine centre of gravity\n",
    "#         ymean = np.mean(ylist)\n",
    "        xmean = xlist[29]\n",
    "        ymean = ylist[29]\n",
    "        xcentral = [(x-xmean) for x in xlist] #get distance between each point and the central point in both axes\n",
    "        ycentral = [(y-ymean) for y in ylist]\n",
    "        \n",
    "        # point 29 - nose tip\n",
    "        # point 26 - middle point b/w two eyes\n",
    "        cv.circle(image, (int(xlist[29]), int(ylist[29])), 1, (0,0,255))\n",
    "        \n",
    "        angle_nose = np.arctan2((ylist[26]-ymean), (xlist[26]-xmean)) * 180 / np.pi\n",
    "        if angle_nose < 0:\n",
    "            angle_nose += 90\n",
    "        else:\n",
    "            angle_nose -= 90\n",
    "            \n",
    "#         print(angle_nose)\n",
    "\n",
    "        landmarks_vectorised = []\n",
    "        for x, y, w, z in zip(xcentral, ycentral, xlist, ylist):\n",
    "            landmarks_vectorised.append(x) #Add the coordinates relative to the centre of gravity\n",
    "            landmarks_vectorised.append(y)\n",
    "\n",
    "            #Get the euclidean distance between each point and the centre point (the vector length)\n",
    "            meannp = np.asarray((ymean,xmean))\n",
    "            coornp = np.asarray((z,w))\n",
    "            dist = np.linalg.norm(coornp-meannp)\n",
    "            landmarks_vectorised.append(dist)\n",
    "\n",
    "            #Get the angle the vector describes relative to the image, corrected for the offset that the nosebrigde has when the face is not perfectly horizontal\n",
    "            anglerelative = (np.arctan2((z - ymean), (w - xmean)) * 180 / np.pi) - angle_nose\n",
    "            landmarks_vectorised.append(anglerelative)\n",
    "        \n",
    "    if len(detections) < 1: \n",
    "        landmarks_vectorised = \"error\"     \n",
    "    \n",
    "    return landmarks_vectorised"
   ]
  },
  {
   "cell_type": "code",
   "execution_count": 11,
   "metadata": {
    "collapsed": false,
    "deletable": true,
    "editable": true
   },
   "outputs": [
    {
     "name": "stdout",
     "output_type": "stream",
     "text": [
      "('train - ', 104.61397886276245)\n",
      "('test - ', 129.03816199302673)\n",
      "(19863, 19863)\n"
     ]
    }
   ],
   "source": [
    "def make_sets():\n",
    "    training_data = []\n",
    "    test_data = []\n",
    "    training_label = []\n",
    "    test_label = []\n",
    "    \n",
    "    #Append data to training and prediction list, and generate labels 0-7\n",
    "    index = 0\n",
    "    \n",
    "    start_time = time.time()\n",
    "    \n",
    "    for item in training_image:\n",
    "        # image = cv.imread(item) #open image\n",
    "        # gray = cv.cvtColor(image, cv.COLOR_BGR2GRAY) #convert to grayscale\n",
    "        # clahe_image = clahe.apply(gray)\n",
    "#         print(index)\n",
    "        landmarks_vectorised = get_landmarks(item)\n",
    "        if landmarks_vectorised == \"error\":\n",
    "            pass\n",
    "        else:\n",
    "            training_data.append(landmarks_vectorised) #append image array to training data list\n",
    "            training_label.append(training_label_full[index])\n",
    "            \n",
    "        index += 1\n",
    "        \n",
    "    print('train - ', time.time() - start_time)\n",
    "    \n",
    "    index = 0\n",
    "    for item in test_image:\n",
    "        # image = cv.imread(item)\n",
    "        # gray = cv.cvtColor(image, cv.COLOR_BGR2GRAY)\n",
    "        # clahe_image = clahe.apply(gray)\n",
    "#         print(index)\n",
    "        landmarks_vectorised = get_landmarks(item)\n",
    "        if landmarks_vectorised == \"error\":\n",
    "            pass\n",
    "        else:\n",
    "            test_data.append(landmarks_vectorised)\n",
    "            test_label.append(test_label_full[index])\n",
    "            \n",
    "        index += 1\n",
    "        \n",
    "    print('test - ', time.time() - start_time)\n",
    "\n",
    "    return training_data, test_data, training_label, test_label\n",
    "\n",
    "# --------------------------------------------------------\n",
    "\n",
    "train_data, test_data, training_label, test_label = make_sets()\n",
    "\n",
    "print(len(train_data), len(training_label))\n",
    "\n",
    "# pd.DataFrame(train_data)\n",
    "# pd.DataFrame(test_data)"
   ]
  },
  {
   "cell_type": "code",
   "execution_count": 12,
   "metadata": {
    "collapsed": false,
    "deletable": true,
    "editable": true
   },
   "outputs": [
    {
     "name": "stdout",
     "output_type": "stream",
     "text": [
      "('fit time - ', 362.7206859588623, ' sec')\n"
     ]
    }
   ],
   "source": [
    "from sklearn import svm\n",
    "\n",
    "start_time = time.time()\n",
    "\n",
    "clf = svm.SVC(kernel='rbf', gamma=2)\n",
    "clf.fit(train_data, training_label)\n",
    "\n",
    "print('fit time - ', time.time() - start_time, ' sec')"
   ]
  },
  {
   "cell_type": "code",
   "execution_count": 13,
   "metadata": {
    "collapsed": false,
    "deletable": true,
    "editable": true
   },
   "outputs": [
    {
     "name": "stdout",
     "output_type": "stream",
     "text": [
      "('predict time - ', 27.23304796218872, ' sec')\n"
     ]
    }
   ],
   "source": [
    "start_time = time.time()\n",
    "predicted_labels = clf.predict(test_data)\n",
    "print('predict time - ', time.time() - start_time, ' sec')"
   ]
  },
  {
   "cell_type": "code",
   "execution_count": 14,
   "metadata": {
    "collapsed": false,
    "deletable": true,
    "editable": true
   },
   "outputs": [
    {
     "name": "stdout",
     "output_type": "stream",
     "text": [
      "('Training accuracy (using kernel SVC) - ', 35.860531116967366)\n"
     ]
    }
   ],
   "source": [
    "print('Training accuracy (using kernel SVC) - ', np.mean(predicted_labels == test_label) * 100)"
   ]
  },
  {
   "cell_type": "code",
   "execution_count": 27,
   "metadata": {
    "collapsed": false
   },
   "outputs": [
    {
     "data": {
      "image/png": "[encoded data removed]",
      "text/plain": [
       "<matplotlib.figure.Figure at 0x108d20dd0>"
      ]
     },
     "metadata": {},
     "output_type": "display_data"
    },
    {
     "data": {
      "text/html": [
       "<div>\n",
       "<table border=\"1\" class=\"dataframe\">\n",
       "  <thead>\n",
       "    <tr style=\"text-align: right;\">\n",
       "      <th></th>\n",
       "      <th>0</th>\n",
       "      <th>1</th>\n",
       "      <th>2</th>\n",
       "      <th>3</th>\n",
       "      <th>4</th>\n",
       "      <th>5</th>\n",
       "      <th>6</th>\n",
       "    </tr>\n",
       "  </thead>\n",
       "  <tbody>\n",
       "    <tr>\n",
       "      <th>0</th>\n",
       "      <td>51.0</td>\n",
       "      <td>0.0</td>\n",
       "      <td>2.0</td>\n",
       "      <td>591.0</td>\n",
       "      <td>1.0</td>\n",
       "      <td>0.0</td>\n",
       "      <td>0.0</td>\n",
       "    </tr>\n",
       "    <tr>\n",
       "      <th>1</th>\n",
       "      <td>1.0</td>\n",
       "      <td>27.0</td>\n",
       "      <td>0.0</td>\n",
       "      <td>57.0</td>\n",
       "      <td>0.0</td>\n",
       "      <td>0.0</td>\n",
       "      <td>0.0</td>\n",
       "    </tr>\n",
       "    <tr>\n",
       "      <th>2</th>\n",
       "      <td>1.0</td>\n",
       "      <td>0.0</td>\n",
       "      <td>69.0</td>\n",
       "      <td>569.0</td>\n",
       "      <td>1.0</td>\n",
       "      <td>1.0</td>\n",
       "      <td>1.0</td>\n",
       "    </tr>\n",
       "    <tr>\n",
       "      <th>3</th>\n",
       "      <td>0.0</td>\n",
       "      <td>0.0</td>\n",
       "      <td>0.0</td>\n",
       "      <td>1373.0</td>\n",
       "      <td>0.0</td>\n",
       "      <td>1.0</td>\n",
       "      <td>1.0</td>\n",
       "    </tr>\n",
       "    <tr>\n",
       "      <th>4</th>\n",
       "      <td>2.0</td>\n",
       "      <td>0.0</td>\n",
       "      <td>1.0</td>\n",
       "      <td>642.0</td>\n",
       "      <td>23.0</td>\n",
       "      <td>0.0</td>\n",
       "      <td>0.0</td>\n",
       "    </tr>\n",
       "    <tr>\n",
       "      <th>5</th>\n",
       "      <td>0.0</td>\n",
       "      <td>0.0</td>\n",
       "      <td>3.0</td>\n",
       "      <td>412.0</td>\n",
       "      <td>0.0</td>\n",
       "      <td>187.0</td>\n",
       "      <td>0.0</td>\n",
       "    </tr>\n",
       "    <tr>\n",
       "      <th>6</th>\n",
       "      <td>0.0</td>\n",
       "      <td>0.0</td>\n",
       "      <td>0.0</td>\n",
       "      <td>877.0</td>\n",
       "      <td>0.0</td>\n",
       "      <td>0.0</td>\n",
       "      <td>39.0</td>\n",
       "    </tr>\n",
       "  </tbody>\n",
       "</table>\n",
       "</div>"
      ],
      "text/plain": [
       "      0     1     2       3     4      5     6\n",
       "0  51.0   0.0   2.0   591.0   1.0    0.0   0.0\n",
       "1   1.0  27.0   0.0    57.0   0.0    0.0   0.0\n",
       "2   1.0   0.0  69.0   569.0   1.0    1.0   1.0\n",
       "3   0.0   0.0   0.0  1373.0   0.0    1.0   1.0\n",
       "4   2.0   0.0   1.0   642.0  23.0    0.0   0.0\n",
       "5   0.0   0.0   3.0   412.0   0.0  187.0   0.0\n",
       "6   0.0   0.0   0.0   877.0   0.0    0.0  39.0"
      ]
     },
     "execution_count": 27,
     "metadata": {},
     "output_type": "execute_result"
    }
   ],
   "source": [
    "## confusion matrix\n",
    "confusion_matrix = np.zeros((7, 7))\n",
    "for actual, pred in zip(test_label, predicted_labels):\n",
    "    confusion_matrix[actual, pred] += 1\n",
    "\n",
    "plt.imshow(confusion_matrix)    \n",
    "plt.show()\n",
    "\n",
    "pd.DataFrame(confusion_matrix)"
   ]
  },
  {
   "cell_type": "code",
   "execution_count": 21,
   "metadata": {
    "collapsed": false,
    "deletable": true,
    "editable": true
   },
   "outputs": [
    {
     "data": {
      "text/plain": [
       "MLPClassifier(activation='relu', alpha=1e-06, batch_size='auto', beta_1=0.9,\n",
       "       beta_2=0.999, early_stopping=False, epsilon=1e-08,\n",
       "       hidden_layer_sizes=100, learning_rate='constant',\n",
       "       learning_rate_init=0.001, max_iter=500, momentum=0.9,\n",
       "       nesterovs_momentum=True, power_t=0.5, random_state=1, shuffle=True,\n",
       "       solver='lbfgs', tol=0.0001, validation_fraction=0.1, verbose=False,\n",
       "       warm_start=False)"
      ]
     },
     "execution_count": 21,
     "metadata": {},
     "output_type": "execute_result"
    }
   ],
   "source": [
    "from sklearn.neural_network import MLPClassifier\n",
    "\n",
    "nn_clf = MLPClassifier(solver='lbfgs', alpha=1e-6, hidden_layer_sizes=(100), random_state=1, max_iter=500)\n",
    "nn_clf.fit(train_data, training_label)"
   ]
  },
  {
   "cell_type": "code",
   "execution_count": 22,
   "metadata": {
    "collapsed": false,
    "deletable": true,
    "editable": true
   },
   "outputs": [
    {
     "name": "stdout",
     "output_type": "stream",
     "text": [
      "('predict time - ', 0.14679813385009766, ' sec')\n"
     ]
    }
   ],
   "source": [
    "start_time = time.time()\n",
    "nn_predicted_labels = nn_clf.predict(test_data)\n",
    "print('predict time - ', time.time() - start_time, ' sec')"
   ]
  },
  {
   "cell_type": "code",
   "execution_count": 23,
   "metadata": {
    "collapsed": false,
    "deletable": true,
    "editable": true
   },
   "outputs": [
    {
     "name": "stdout",
     "output_type": "stream",
     "text": [
      "('Training accuracy (using MLP) - ', 50.516926819379691)\n"
     ]
    }
   ],
   "source": [
    "print('Training accuracy (using MLP) - ', np.mean(nn_predicted_labels == test_label) * 100)"
   ]
  },
  {
   "cell_type": "code",
   "execution_count": 37,
   "metadata": {
    "collapsed": false
   },
   "outputs": [
    {
     "data": {
      "image/png": "[encoded data removed]",
      "text/plain": [
       "<matplotlib.figure.Figure at 0x1115c2d90>"
      ]
     },
     "metadata": {},
     "output_type": "display_data"
    },
    {
     "data": {
      "text/html": [
       "<div>\n",
       "<table border=\"1\" class=\"dataframe\">\n",
       "  <thead>\n",
       "    <tr style=\"text-align: right;\">\n",
       "      <th></th>\n",
       "      <th>0</th>\n",
       "      <th>1</th>\n",
       "      <th>2</th>\n",
       "      <th>3</th>\n",
       "      <th>4</th>\n",
       "      <th>5</th>\n",
       "      <th>6</th>\n",
       "    </tr>\n",
       "  </thead>\n",
       "  <tbody>\n",
       "    <tr>\n",
       "      <th>0</th>\n",
       "      <td>213.0</td>\n",
       "      <td>2.0</td>\n",
       "      <td>36.0</td>\n",
       "      <td>104.0</td>\n",
       "      <td>40.0</td>\n",
       "      <td>50.0</td>\n",
       "      <td>200.0</td>\n",
       "    </tr>\n",
       "    <tr>\n",
       "      <th>1</th>\n",
       "      <td>36.0</td>\n",
       "      <td>1.0</td>\n",
       "      <td>2.0</td>\n",
       "      <td>15.0</td>\n",
       "      <td>7.0</td>\n",
       "      <td>4.0</td>\n",
       "      <td>20.0</td>\n",
       "    </tr>\n",
       "    <tr>\n",
       "      <th>2</th>\n",
       "      <td>110.0</td>\n",
       "      <td>2.0</td>\n",
       "      <td>41.0</td>\n",
       "      <td>100.0</td>\n",
       "      <td>41.0</td>\n",
       "      <td>124.0</td>\n",
       "      <td>224.0</td>\n",
       "    </tr>\n",
       "    <tr>\n",
       "      <th>3</th>\n",
       "      <td>42.0</td>\n",
       "      <td>1.0</td>\n",
       "      <td>8.0</td>\n",
       "      <td>1175.0</td>\n",
       "      <td>15.0</td>\n",
       "      <td>30.0</td>\n",
       "      <td>104.0</td>\n",
       "    </tr>\n",
       "    <tr>\n",
       "      <th>4</th>\n",
       "      <td>97.0</td>\n",
       "      <td>0.0</td>\n",
       "      <td>16.0</td>\n",
       "      <td>107.0</td>\n",
       "      <td>81.0</td>\n",
       "      <td>42.0</td>\n",
       "      <td>325.0</td>\n",
       "    </tr>\n",
       "    <tr>\n",
       "      <th>5</th>\n",
       "      <td>33.0</td>\n",
       "      <td>0.0</td>\n",
       "      <td>14.0</td>\n",
       "      <td>66.0</td>\n",
       "      <td>4.0</td>\n",
       "      <td>404.0</td>\n",
       "      <td>81.0</td>\n",
       "    </tr>\n",
       "    <tr>\n",
       "      <th>6</th>\n",
       "      <td>89.0</td>\n",
       "      <td>1.0</td>\n",
       "      <td>32.0</td>\n",
       "      <td>104.0</td>\n",
       "      <td>63.0</td>\n",
       "      <td>50.0</td>\n",
       "      <td>577.0</td>\n",
       "    </tr>\n",
       "  </tbody>\n",
       "</table>\n",
       "</div>"
      ],
      "text/plain": [
       "       0    1     2       3     4      5      6\n",
       "0  213.0  2.0  36.0   104.0  40.0   50.0  200.0\n",
       "1   36.0  1.0   2.0    15.0   7.0    4.0   20.0\n",
       "2  110.0  2.0  41.0   100.0  41.0  124.0  224.0\n",
       "3   42.0  1.0   8.0  1175.0  15.0   30.0  104.0\n",
       "4   97.0  0.0  16.0   107.0  81.0   42.0  325.0\n",
       "5   33.0  0.0  14.0    66.0   4.0  404.0   81.0\n",
       "6   89.0  1.0  32.0   104.0  63.0   50.0  577.0"
      ]
     },
     "execution_count": 37,
     "metadata": {},
     "output_type": "execute_result"
    }
   ],
   "source": [
    "## confusion matrix\n",
    "confusion_matrix = np.zeros((7, 7))\n",
    "for actual, pred in zip(test_label, nn_predicted_labels):\n",
    "    confusion_matrix[actual, pred] += 1\n",
    "\n",
    "plt.imshow(confusion_matrix)    \n",
    "plt.show()\n",
    "plt.savefig('conf.png')\n",
    "\n",
    "pd.DataFrame(confusion_matrix)"
   ]
  },
  {
   "cell_type": "code",
   "execution_count": 39,
   "metadata": {
    "collapsed": false
   },
   "outputs": [
    {
     "name": "stdout",
     "output_type": "stream",
     "text": [
      "Normalized confusion matrix\n",
      "[[  3.30232558e-01   3.10077519e-03   5.58139535e-02   1.61240310e-01\n",
      "    6.20155039e-02   7.75193798e-02   3.10077519e-01]\n",
      " [  4.23529412e-01   1.17647059e-02   2.35294118e-02   1.76470588e-01\n",
      "    8.23529412e-02   4.70588235e-02   2.35294118e-01]\n",
      " [  1.71339564e-01   3.11526480e-03   6.38629283e-02   1.55763240e-01\n",
      "    6.38629283e-02   1.93146417e-01   3.48909657e-01]\n",
      " [  3.05454545e-02   7.27272727e-04   5.81818182e-03   8.54545455e-01\n",
      "    1.09090909e-02   2.18181818e-02   7.56363636e-02]\n",
      " [  1.45209581e-01   0.00000000e+00   2.39520958e-02   1.60179641e-01\n",
      "    1.21257485e-01   6.28742515e-02   4.86526946e-01]\n",
      " [  5.48172757e-02   0.00000000e+00   2.32558140e-02   1.09634551e-01\n",
      "    6.64451827e-03   6.71096346e-01   1.34551495e-01]\n",
      " [  9.71615721e-02   1.09170306e-03   3.49344978e-02   1.13537118e-01\n",
      "    6.87772926e-02   5.45851528e-02   6.29912664e-01]]\n"
     ]
    },
    {
     "data": {
      "image/png": "[encoded data removed]",
      "text/plain": [
       "<matplotlib.figure.Figure at 0x1110de190>"
      ]
     },
     "metadata": {},
     "output_type": "display_data"
    }
   ],
   "source": [
    "# import itertools\n",
    "def plot_confusion_matrix(cm, classes,\n",
    "                          normalize=False,\n",
    "                          title='Confusion matrix',\n",
    "                          cmap=plt.cm.Blues):\n",
    "    \"\"\"\n",
    "    This function prints and plots the confusion matrix.\n",
    "    Normalization can be applied by setting `normalize=True`.\n",
    "    \"\"\"\n",
    "    plt.imshow(cm, interpolation='nearest', cmap=cmap)\n",
    "    plt.title(title)\n",
    "    plt.colorbar()\n",
    "    tick_marks = np.arange(len(classes))\n",
    "    plt.xticks(tick_marks, classes, rotation=45)\n",
    "    plt.yticks(tick_marks, classes)\n",
    "\n",
    "    if normalize:\n",
    "        cm = cm.astype('float') / cm.sum(axis=1)[:, np.newaxis]\n",
    "        print(\"Normalized confusion matrix\")\n",
    "    else:\n",
    "        print('Confusion matrix, without normalization')\n",
    "\n",
    "    print(cm)\n",
    "\n",
    "#     thresh = cm.max() / 2.\n",
    "#     for i, j in itertools.product(range(cm.shape[0]), range(cm.shape[1])):\n",
    "#         plt.text(j, i, cm[i, j],\n",
    "#                  horizontalalignment=\"center\",\n",
    "#                  color=\"white\" if cm[i, j] > thresh else \"black\")\n",
    "\n",
    "    plt.tight_layout()\n",
    "    plt.ylabel('True label')\n",
    "    plt.xlabel('Predicted label')\n",
    "    \n",
    "plt.figure()\n",
    "plot_confusion_matrix(confusion_matrix, classes=np.arange(7), normalize=True,\n",
    "                      title='Normalized confusion matrix')\n",
    "plt.show()"
   ]
  },
  {
   "cell_type": "code",
   "execution_count": null,
   "metadata": {
    "collapsed": true
   },
   "outputs": [],
   "source": []
  }
 ],
 "metadata": {
  "kernelspec": {
   "display_name": "Python 2",
   "language": "python",
   "name": "python2"
  },
  "language_info": {
   "codemirror_mode": {
    "name": "ipython",
    "version": 2
   },
   "file_extension": ".py",
   "mimetype": "text/x-python",
   "name": "python",
   "nbconvert_exporter": "python",
   "pygments_lexer": "ipython2",
   "version": "2.7.13"
  }
 },
 "nbformat": 4,
 "nbformat_minor": 2
}
