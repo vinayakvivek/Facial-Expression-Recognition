{
 "cells": [
  {
   "cell_type": "code",
   "execution_count": 1,
   "metadata": {
    "collapsed": true,
    "deletable": true,
    "editable": true
   },
   "outputs": [],
   "source": [
    "import cv2 as cv\n",
    "import pandas as pd\n",
    "import numpy as np\n",
    "import matplotlib.pyplot as plt\n",
    "import dlib\n",
    "import time\n",
    "\n",
    "from sklearn.externals import joblib\n",
    "\n",
    "from sklearn.metrics import confusion_matrix"
   ]
  },
  {
   "cell_type": "code",
   "execution_count": 2,
   "metadata": {
    "collapsed": true,
    "deletable": true,
    "editable": true
   },
   "outputs": [],
   "source": [
    "# Dlib face detector\n",
    "detector = dlib.get_frontal_face_detector()\n",
    "\n",
    "# Facial landmarks detector\n",
    "predictor = dlib.shape_predictor('shape_predictor_68_face_landmarks.dat')\n",
    "\n",
    "# get data from file\n",
    "data = pd.read_csv('data/fer2013.csv')"
   ]
  },
  {
   "cell_type": "code",
   "execution_count": 3,
   "metadata": {
    "collapsed": false,
    "deletable": true,
    "editable": true
   },
   "outputs": [],
   "source": [
    "'''\n",
    "0 - Anger\n",
    "1 - Disgust\n",
    "2 - Fear\n",
    "3 - Happiness\n",
    "4 - Sadness\n",
    "5 - Surprise\n",
    "6 - Neutral\n",
    "'''\n",
    "\n",
    "classes = [\n",
    "    'Anger',\n",
    "    'Disgust',\n",
    "    'Fear',\n",
    "    'Happiness',\n",
    "    'Sadness',\n",
    "    'Surprise',\n",
    "    'Neutral',\n",
    "]\n",
    "\n",
    "D = data\n",
    "# print(data.groupby('Usage').count())\n",
    "\n",
    "def get_landmarks(_image):\n",
    "    \"\"\"\n",
    "    takes in an image, detects face in it,\n",
    "    if face is detected then finds facial landmarks of that face,\n",
    "    extracts some features as explained in code\n",
    "    return : list of features corresponding to the detected face,\n",
    "             if no face is detected, returns \"error\"\n",
    "    \"\"\"\n",
    "    image = _image.copy()\n",
    "    detections = detector(image, 1)\n",
    "    \n",
    "    # for all detected face instances individually\n",
    "    for k, d in enumerate(detections):\n",
    "        \n",
    "        # get Facial Landmarks with the predictor class\n",
    "        shape = predictor(image, d)\n",
    "        \n",
    "        xlist = []\n",
    "        ylist = []\n",
    "        # store X and Y coordinates in two lists\n",
    "        for i in range(1, 68):\n",
    "            xlist.append(float(shape.part(i).x))\n",
    "            ylist.append(float(shape.part(i).y))\n",
    "                \n",
    "#         xmean = np.mean(xlist) #Get the mean of both axes to determine centre of gravity\n",
    "#         ymean = np.mean(ylist)\n",
    "        xmean = xlist[29]\n",
    "        ymean = ylist[29]\n",
    "        \n",
    "        # get distance between each point and the central point in both axes\n",
    "        xcentral = [(x - xmean) for x in xlist]\n",
    "        ycentral = [(y - ymean) for y in ylist]\n",
    "        \n",
    "        # point 29 - nose tip\n",
    "        # point 26 - middle point b/w two eyes\n",
    "        \n",
    "        # get angle that nose line makes with vertical, this for correcting tilted faces.\n",
    "        angle_nose = np.arctan2((ylist[26] - ymean), (xlist[26] - xmean)) * 180 / np.pi\n",
    "        if angle_nose < 0:\n",
    "            angle_nose += 90\n",
    "        else:\n",
    "            angle_nose -= 90\n",
    "        \n",
    "        # landmarks_vectorised is the feature vector corresponding to the face\n",
    "        \"\"\"\n",
    "        landmarks_vectorised is of the form\n",
    "        [p1_x_rel, p1_y_rel, dist(p, centre), angle()]\n",
    "        \"\"\"\n",
    "        landmarks_vectorised = []\n",
    "        for i in range(0, 67):\n",
    "            \"\"\"\n",
    "            rx - x coordinate of relative position of a point w.r.t central point\n",
    "            ry - y coordinate of relative position of a point w.r.t central point\n",
    "            x - absolute x coordinate\n",
    "            y - absolute y coordinate\n",
    "            \"\"\"\n",
    "            \n",
    "            rx = xcentral[i]\n",
    "            ry = ycentral[i]\n",
    "            x = xlist[i]\n",
    "            y = ylist[i]\n",
    "        \n",
    "            landmarks_vectorised.append(rx)\n",
    "            landmarks_vectorised.append(ry)\n",
    "\n",
    "            # calculate length of point i from central point\n",
    "            dist = np.linalg.norm(np.array([rx, ry]))\n",
    "            landmarks_vectorised.append(dist)\n",
    "\n",
    "            # get the angle the vector describes relative to the image, \n",
    "            # corrected for the offset that the nosebrigde has when the face is titled\n",
    "            anglerelative = (np.arctan2((-ry), (-rx)) * 180 / np.pi) - angle_nose\n",
    "            landmarks_vectorised.append(anglerelative)\n",
    "        \n",
    "    if len(detections) < 1: \n",
    "        landmarks_vectorised = \"error\"     \n",
    "    \n",
    "    return landmarks_vectorised\n",
    "\n",
    "\n",
    "def make_sets():\n",
    "    \"\"\"\n",
    "    return: creates feature matrix by appending feature vector of \n",
    "            each image.\n",
    "    \"\"\"\n",
    "    training_data = []\n",
    "    test_data = []\n",
    "    training_label = []\n",
    "    test_label = []\n",
    "    \n",
    "    #Append data to training and prediction list, and generate labels 0-7\n",
    "    index = 0\n",
    "    \n",
    "    start_time = time.time()\n",
    "    \n",
    "    for item in training_image:\n",
    "        # image = cv.imread(item) #open image\n",
    "        # gray = cv.cvtColor(image, cv.COLOR_BGR2GRAY) #convert to grayscale\n",
    "        # clahe_image = clahe.apply(gray)\n",
    "#         print(index)\n",
    "        landmarks_vectorised = get_landmarks(item)\n",
    "        if landmarks_vectorised == \"error\":\n",
    "            pass\n",
    "        else:\n",
    "            training_data.append(landmarks_vectorised) #append image array to training data list\n",
    "            training_label.append(training_label_full[index])\n",
    "            \n",
    "        index += 1\n",
    "        \n",
    "    print('train - ', time.time() - start_time)\n",
    "    \n",
    "    index = 0\n",
    "    for item in test_image:\n",
    "        # image = cv.imread(item)\n",
    "        # gray = cv.cvtColor(image, cv.COLOR_BGR2GRAY)\n",
    "        # clahe_image = clahe.apply(gray)\n",
    "#         print(index)\n",
    "        landmarks_vectorised = get_landmarks(item)\n",
    "        if landmarks_vectorised == \"error\":\n",
    "            pass\n",
    "        else:\n",
    "            test_data.append(landmarks_vectorised)\n",
    "            test_label.append(test_label_full[index])\n",
    "            \n",
    "        index += 1\n",
    "        \n",
    "    print('test - ', time.time() - start_time)\n",
    "\n",
    "    return training_data, test_data, training_label, test_label\n",
    "\n",
    "\n",
    "def plot_confusion_matrix(cm, classes=classes,\n",
    "                          normalize=True,\n",
    "                          title='Confusion matrix',\n",
    "                          cmap=plt.cm.Greens):\n",
    "    \"\"\"\n",
    "    This function prints and plots the confusion matrix.\n",
    "    Normalization can be applied by setting `normalize=True`.\n",
    "    \"\"\"\n",
    "    \n",
    "    if normalize:\n",
    "        cm = cm.astype('float') / cm.sum(axis=1)[:, np.newaxis]\n",
    "        title = 'Normalized ' + title\n",
    "    \n",
    "    plt.imshow(cm, interpolation='nearest', cmap=cmap)\n",
    "    plt.title(title)\n",
    "    plt.colorbar()\n",
    "    tick_marks = np.arange(len(classes))\n",
    "    plt.xticks(tick_marks, classes, rotation=45)\n",
    "    plt.yticks(tick_marks, classes)\n",
    "\n",
    "    plt.tight_layout()\n",
    "    plt.ylabel('True label')\n",
    "    plt.xlabel('Predicted label')"
   ]
  },
  {
   "cell_type": "code",
   "execution_count": 4,
   "metadata": {
    "collapsed": false,
    "deletable": true,
    "editable": true
   },
   "outputs": [
    {
     "name": "stdout",
     "output_type": "stream",
     "text": [
      "reading data..\n",
      "time taken for reading data - 44.055587 sec\n",
      "starting feature extraction..\n",
      "('train - ', 87.69221687316895)\n",
      "('test - ', 109.47682690620422)\n",
      "feature extraction done in 109.477084 sec\n",
      "(19863, 19863)\n"
     ]
    }
   ],
   "source": [
    "# list of images for model training\n",
    "training_image = []\n",
    "# corresponding labels\n",
    "training_label_full = []\n",
    "\n",
    "# list of images for model testing\n",
    "test_image = []\n",
    "# corresponding labels\n",
    "test_label_full = []\n",
    "\n",
    "start_time = time.time()\n",
    "print('reading data..')\n",
    "\n",
    "# read data and reshape the pixel row from (48*48, ) to (48, 48)\n",
    "# dataset contains images labeled as 'Training', 'PrivateTest' and 'PublicTest'\n",
    "# images labeled 'Training' are used for training the model and rest for testing.\n",
    "for index, row in D.iterrows():\n",
    "    if row['Usage'] == 'Training':\n",
    "        training_image.append(np.reshape(np.array(row['pixels'].split(), dtype=np.uint8), (48, 48)))\n",
    "        training_label_full.append(row['emotion'])\n",
    "    else:\n",
    "        test_image.append(np.reshape(np.array(row['pixels'].split(), dtype=np.uint8), (48, 48)))\n",
    "        test_label_full.append(row['emotion'])\n",
    "        \n",
    "print('time taken for reading data - %f sec' % (time.time() - start_time))\n",
    "\n",
    "\n",
    "print('starting feature extraction..')\n",
    "start_time = time.time()\n",
    "train_data, test_data, training_label, test_label = make_sets()\n",
    "print('feature extraction done in %f sec' % (time.time() - start_time))\n",
    "\n",
    "print(len(train_data), len(training_label))\n",
    "\n",
    "# pd.DataFrame(train_data)\n",
    "# pd.DataFrame(test_data)"
   ]
  },
  {
   "cell_type": "code",
   "execution_count": 9,
   "metadata": {
    "collapsed": true,
    "deletable": true,
    "editable": true
   },
   "outputs": [],
   "source": [
    "train_data = np.asarray(train_data)\n",
    "training_label = np.asarray(training_label)\n",
    "\n",
    "test_data = np.asarray(test_data)\n",
    "test_label = np.asarray(test_label)"
   ]
  },
  {
   "cell_type": "code",
   "execution_count": 10,
   "metadata": {
    "collapsed": false,
    "deletable": true,
    "editable": true
   },
   "outputs": [
    {
     "name": "stdout",
     "output_type": "stream",
     "text": [
      "MLP clf prediction done in 0.035260 sec\n",
      "Training accuracy (using MLP) - 50.577742 \n",
      "Confusion matrix of prediction using MLP classifier\n",
      "[[ 268    1   57   93   39   36  151]\n",
      " [  43    1    5   12    4    5   15]\n",
      " [ 104    0   80  102   64  119  173]\n",
      " [  43    1   47 1145   35   21   83]\n",
      " [ 115    1   54   96   79   33  290]\n",
      " [  45    0   33   70    5  381   68]\n",
      " [ 121    0   49   91   68   46  541]]\n"
     ]
    },
    {
     "data": {
      "image/png": "[encoded data removed]",
      "text/plain": [
       "<matplotlib.figure.Figure at 0x11b9d14d0>"
      ]
     },
     "metadata": {},
     "output_type": "display_data"
    }
   ],
   "source": [
    "##### Multilayer Perceptron Classifier\n",
    "\n",
    "from sklearn.neural_network import MLPClassifier\n",
    "\n",
    "train_net = False\n",
    "model_path_MLP = 'trained_models/MLP_100_clf_temp.pkl'\n",
    "\n",
    "if train_net:\n",
    "    # training\n",
    "    start_time = time.time()\n",
    "    nn_clf = MLPClassifier(solver='lbfgs', alpha=1e-6, hidden_layer_sizes=(100), random_state=1, max_iter=500)\n",
    "    nn_clf.fit(train_data, training_label)\n",
    "    print('MLP classifier fit done in %f sec' % (time.time() - start_time))\n",
    "    \n",
    "    # save model\n",
    "    joblib.dump(nn_clf, model_path_MLP, compress=9)\n",
    "\n",
    "## prediction\n",
    "start_time = time.time()\n",
    "nn_clf = joblib.load(model_path_MLP)\n",
    "nn_predicted_labels = nn_clf.predict(test_data)\n",
    "print('MLP clf prediction done in %f sec' % (time.time() - start_time))\n",
    "print('Training accuracy (using MLP) - %f ' % (np.mean(nn_predicted_labels == test_label) * 100))\n",
    "\n",
    "cm = confusion_matrix(test_label, nn_predicted_labels)\n",
    "print('Confusion matrix of prediction using MLP classifier')\n",
    "print(cm)\n",
    "plot_confusion_matrix(cm)    \n",
    "plt.show()"
   ]
  },
  {
   "cell_type": "code",
   "execution_count": 20,
   "metadata": {
    "collapsed": false,
    "deletable": true,
    "editable": true
   },
   "outputs": [
    {
     "name": "stdout",
     "output_type": "stream",
     "text": [
      "starting XGB prediction..\n",
      "XGB prediction done in 0.237642 sec\n",
      "Training accuracy (using XGB) - 52.908980\n",
      "Confusion matrix of prediction using MLP classifier\n",
      "[[ 185    2   29  138   40   52  199]\n",
      " [  14    2    9   20    6    3   31]\n",
      " [  66    0   72  114   58   91  241]\n",
      " [  15    0   26 1201   19   16   98]\n",
      " [  46    1   31  124  101   22  343]\n",
      " [  19    1   35   72    9  369   97]\n",
      " [  46    0    9   85   72   24  680]]\n"
     ]
    },
    {
     "data": {
      "image/png": "[encoded data removed]",
      "text/plain": [
       "<matplotlib.figure.Figure at 0x11c7f6e90>"
      ]
     },
     "metadata": {},
     "output_type": "display_data"
    }
   ],
   "source": [
    "from xgboost import XGBClassifier\n",
    "\n",
    "train_XGB = False\n",
    "model_path_XGB = 'trained_models/XGB.pkl'\n",
    "\n",
    "if train_XGB:\n",
    "    # training\n",
    "    # training\n",
    "    start_time = time.time()\n",
    "    xgb_clf = XGBClassifier()\n",
    "    print('training XGB classifier..')\n",
    "    xgb_clf.fit(train_data, training_label)\n",
    "    print('XGB classifier fit done in %f sec' % (time.time() - start_time))\n",
    "    \n",
    "    # save model\n",
    "    joblib.dump(xgb_clf, model_path_XGB, compress=9)\n",
    "    \n",
    "# prediction\n",
    "start_time = time.time()\n",
    "xgb_clf = joblib.load(model_path_XGB)\n",
    "print('starting XGB prediction..')\n",
    "xgb_predicted_labels = xgb_clf.predict(test_data)\n",
    "print('XGB prediction done in %f sec' % (time.time() - start_time))\n",
    "\n",
    "print('Training accuracy (using XGB) - %f' % (np.mean(xgb_predicted_labels == test_label) * 100))\n",
    "\n",
    "cm = confusion_matrix(test_label, xgb_predicted_labels)\n",
    "print('Confusion matrix of prediction using MLP classifier')\n",
    "print(cm)\n",
    "plot_confusion_matrix(cm)    \n",
    "plt.show()"
   ]
  },
  {
   "cell_type": "code",
   "execution_count": 60,
   "metadata": {
    "collapsed": false,
    "deletable": true,
    "editable": true
   },
   "outputs": [
    {
     "name": "stdout",
     "output_type": "stream",
     "text": [
      "SVC prediction done in 29.750270 sec\n",
      "Training accuracy (using kernel SVC) - 27.873505\n"
     ]
    }
   ],
   "source": [
    "from sklearn import svm\n",
    "\n",
    "train_svm = False\n",
    "model_path_SVC = 'trained_models/svc_rbf.pkl'\n",
    "\n",
    "if train_svm:\n",
    "    # training\n",
    "    start_time = time.time()\n",
    "    clf = svm.SVC(kernel='rbf', gamma=2)\n",
    "    clf.fit(train_data, training_label)\n",
    "    print('SVC with RBF kernel fit done in %f sec' % (time.time() - start_time))\n",
    "    \n",
    "    # save model\n",
    "    joblib.dump(clf, model_path_SVC, compress=9)\n",
    "    \n",
    "# prediction\n",
    "start_time = time.time()\n",
    "scv_rbf_clf = joblib.load(model_path_SVC)\n",
    "svc_predicted_labels = scv_rbf_clf.predict(test_data)\n",
    "print('SVC prediction done in %f sec' % (time.time() - start_time))\n",
    "print('Training accuracy (using kernel SVC) - %f' % (np.mean(svc_predicted_labels == test_label) * 100))"
   ]
  },
  {
   "cell_type": "code",
   "execution_count": 31,
   "metadata": {
    "collapsed": false,
    "deletable": true,
    "editable": true
   },
   "outputs": [
    {
     "name": "stdout",
     "output_type": "stream",
     "text": [
      "training random forest classifier with 200 estimators..\n",
      "random forest training done in 30.150005 sec\n",
      "starting prediction using random forest classifier..\n",
      "Random forest prediction done in 0.635738 sec\n",
      "[3 6 6 ..., 2 6 2]\n",
      "Training accuracy (using random forest) - 56.274073\n",
      "Confusion matrix of prediction using MLP classifier\n",
      "[[ 181    1   35  147   62   36  183]\n",
      " [  10   32    6   15    2    3   17]\n",
      " [  58    0  166  112   67   64  175]\n",
      " [  19    0   25 1190   23   20   98]\n",
      " [  45    0   42  114  145   19  303]\n",
      " [  18    0   28   63   14  421   58]\n",
      " [  32    0   36   94   90   23  641]]\n"
     ]
    },
    {
     "data": {
      "image/png": "[encoded data removed]",
      "text/plain": [
       "<matplotlib.figure.Figure at 0x11c734a50>"
      ]
     },
     "metadata": {},
     "output_type": "display_data"
    }
   ],
   "source": [
    "### random forest classifier\n",
    "\n",
    "from sklearn.ensemble import RandomForestClassifier\n",
    "\n",
    "train_random_forest = True\n",
    "model_path_random_forest = 'trained_models/random_forest_200.pkl'\n",
    "\n",
    "if train_random_forest:\n",
    "    # training\n",
    "    start_time = time.time()\n",
    "    n_estimators = 200\n",
    "    print('training random forest classifier with %d estimators..' % (n_estimators))\n",
    "    rf_clf = RandomForestClassifier(n_estimators=n_estimators)\n",
    "    rf_clf.fit(train_data, training_label)\n",
    "    print('random forest training done in %f sec' % (time.time() - start_time))\n",
    "    \n",
    "    # save model\n",
    "    joblib.dump(rf_clf, model_path_random_forest, compress=9)\n",
    "    \n",
    "# prediction\n",
    "rf_clf = joblib.load(model_path_random_forest)\n",
    "\n",
    "start_time = time.time()\n",
    "\n",
    "print('starting prediction using random forest classifier..')\n",
    "rf_predicted_labels = rf_clf.predict(test_data)\n",
    "print('Random forest prediction done in %f sec' % (time.time() - start_time))\n",
    "\n",
    "print(rf_predicted_labels)\n",
    "print('Training accuracy (using random forest) - %f' % (np.mean(rf_predicted_labels == test_label) * 100))\n",
    "\n",
    "cm = confusion_matrix(test_label, rf_predicted_labels)\n",
    "print('Confusion matrix of prediction using MLP classifier')\n",
    "print(cm)\n",
    "plot_confusion_matrix(cm)    \n",
    "plt.show()"
   ]
  },
  {
   "cell_type": "code",
   "execution_count": 25,
   "metadata": {
    "collapsed": false,
    "deletable": true,
    "editable": true
   },
   "outputs": [
    {
     "name": "stdout",
     "output_type": "stream",
     "text": [
      "training adaboost classifier with 10 estimators..\n",
      "adaboost training done in 192.895985 sec\n",
      "starting prediction using adaboost classifier..\n",
      "adaboost prediction done in 3.588384 sec\n",
      "Training accuracy (using adaboost classifier) - 55.868640\n",
      "Confusion matrix of prediction using MLP classifier\n",
      "[[ 165    0   26  192   40   22  200]\n",
      " [   5   30    4   21    3    5   17]\n",
      " [  45    0  152  148   43   65  189]\n",
      " [  13    1   11 1230   21   15   84]\n",
      " [  35    0   28  147  118   11  329]\n",
      " [  15    0   24   70   19  400   74]\n",
      " [  39    0    9  141   52   14  661]]\n"
     ]
    },
    {
     "data": {
      "image/png": "[encoded data removed]",
      "text/plain": [
       "<matplotlib.figure.Figure at 0x11cbc6e90>"
      ]
     },
     "metadata": {},
     "output_type": "display_data"
    }
   ],
   "source": [
    "## Adaboost classifier\n",
    "\n",
    "from sklearn.ensemble import AdaBoostClassifier\n",
    "\n",
    "train_adaboost = False\n",
    "model_path_adaboost = 'trained_models/adaboost_rf_10.pkl'\n",
    "\n",
    "# xgb_clf = joblib.load(model_path_XGB)\n",
    "rf_clf = joblib.load(model_path_random_forest)\n",
    "\n",
    "if train_adaboost:\n",
    "    # training\n",
    "    start_time = time.time()\n",
    "    n_estimators = 10\n",
    "    print('training adaboost classifier with %d estimators..' % (n_estimators))\n",
    "    adaboost_clf = AdaBoostClassifier(base_estimator=rf_clf, n_estimators=n_estimators)\n",
    "    adaboost_clf.fit(train_data, training_label)\n",
    "    print('adaboost training done in %f sec' % (time.time() - start_time))\n",
    "    \n",
    "    # save model\n",
    "    joblib.dump(adaboost_clf, model_path_adaboost, compress=9)\n",
    "    \n",
    "# prediction\n",
    "adaboost_clf = joblib.load(model_path_adaboost)\n",
    "start_time = time.time()\n",
    "print('starting prediction using adaboost classifier..')\n",
    "adaboost_predicted_labels = adaboost_clf.predict(test_data)\n",
    "print('adaboost prediction done in %f sec' % (time.time() - start_time))\n",
    "\n",
    "print('Training accuracy (using adaboost classifier) - %f' % (np.mean(adaboost_predicted_labels == test_label) * 100))\n",
    "\n",
    "cm = confusion_matrix(test_label, adaboost_predicted_labels)\n",
    "print('Confusion matrix of prediction using MLP classifier')\n",
    "print(cm)\n",
    "plot_confusion_matrix(cm)    \n",
    "plt.show()"
   ]
  },
  {
   "cell_type": "code",
   "execution_count": null,
   "metadata": {
    "collapsed": true,
    "deletable": true,
    "editable": true
   },
   "outputs": [],
   "source": []
  }
 ],
 "metadata": {
  "kernelspec": {
   "display_name": "Python 2",
   "language": "python",
   "name": "python2"
  },
  "language_info": {
   "codemirror_mode": {
    "name": "ipython",
    "version": 2
   },
   "file_extension": ".py",
   "mimetype": "text/x-python",
   "name": "python",
   "nbconvert_exporter": "python",
   "pygments_lexer": "ipython2",
   "version": "2.7.13"
  }
 },
 "nbformat": 4,
 "nbformat_minor": 2
}
