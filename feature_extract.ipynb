{
 "cells": [
  {
   "cell_type": "code",
   "execution_count": 1,
   "metadata": {
    "collapsed": true,
    "deletable": true,
    "editable": true
   },
   "outputs": [],
   "source": [
    "import cv2 as cv\n",
    "import pandas as pd\n",
    "import numpy as np\n",
    "import matplotlib.pyplot as plt\n",
    "\n",
    "import math\n",
    "import dlib"
   ]
  },
  {
   "cell_type": "code",
   "execution_count": 2,
   "metadata": {
    "collapsed": true,
    "deletable": true,
    "editable": true
   },
   "outputs": [],
   "source": [
    "detector = dlib.get_frontal_face_detector() #Face detector\n",
    "predictor = dlib.shape_predictor('shape_predictor_68_face_landmarks.dat')"
   ]
  },
  {
   "cell_type": "code",
   "execution_count": 3,
   "metadata": {
    "collapsed": true,
    "deletable": true,
    "editable": true
   },
   "outputs": [],
   "source": [
    "data = pd.read_csv('data/fer2013.csv')"
   ]
  },
  {
   "cell_type": "code",
   "execution_count": 4,
   "metadata": {
    "collapsed": false,
    "deletable": true,
    "editable": true
   },
   "outputs": [
    {
     "data": {
      "text/html": [
       "<div>\n",
       "<table border=\"1\" class=\"dataframe\">\n",
       "  <thead>\n",
       "    <tr style=\"text-align: right;\">\n",
       "      <th></th>\n",
       "      <th>emotion</th>\n",
       "      <th>pixels</th>\n",
       "    </tr>\n",
       "    <tr>\n",
       "      <th>Usage</th>\n",
       "      <th></th>\n",
       "      <th></th>\n",
       "    </tr>\n",
       "  </thead>\n",
       "  <tbody>\n",
       "    <tr>\n",
       "      <th>PrivateTest</th>\n",
       "      <td>3589</td>\n",
       "      <td>3589</td>\n",
       "    </tr>\n",
       "    <tr>\n",
       "      <th>PublicTest</th>\n",
       "      <td>3589</td>\n",
       "      <td>3589</td>\n",
       "    </tr>\n",
       "    <tr>\n",
       "      <th>Training</th>\n",
       "      <td>28709</td>\n",
       "      <td>28709</td>\n",
       "    </tr>\n",
       "  </tbody>\n",
       "</table>\n",
       "</div>"
      ],
      "text/plain": [
       "             emotion  pixels\n",
       "Usage                       \n",
       "PrivateTest     3589    3589\n",
       "PublicTest      3589    3589\n",
       "Training       28709   28709"
      ]
     },
     "execution_count": 4,
     "metadata": {},
     "output_type": "execute_result"
    }
   ],
   "source": [
    "N = 1000\n",
    "D = data\n",
    "data.groupby('Usage').count()"
   ]
  },
  {
   "cell_type": "code",
   "execution_count": 5,
   "metadata": {
    "collapsed": false,
    "deletable": true,
    "editable": true
   },
   "outputs": [],
   "source": [
    "training_image = []\n",
    "training_label_full = []\n",
    "test_image = []\n",
    "test_label_full = []\n",
    "\n",
    "\n",
    "for index, row in D.iterrows():\n",
    "    if row['Usage'] == 'Training':\n",
    "        training_image.append(np.reshape(np.array(row['pixels'].split(), dtype=np.uint8), (48, 48)))\n",
    "        training_label_full.append(row['emotion'])\n",
    "    else:\n",
    "        test_image.append(np.reshape(np.array(row['pixels'].split(), dtype=np.uint8), (48, 48)))\n",
    "        test_label_full.append(row['emotion'])"
   ]
  },
  {
   "cell_type": "code",
   "execution_count": 6,
   "metadata": {
    "collapsed": false,
    "deletable": true,
    "editable": true
   },
   "outputs": [],
   "source": [
    "def get_landmarks(_image):\n",
    "    image = _image.copy()\n",
    "    detections = detector(image, 1)\n",
    "    for k,d in enumerate(detections): #For all detected face instances individually\n",
    "        shape = predictor(image, d) #Draw Facial Landmarks with the predictor class\n",
    "        xlist = []\n",
    "        ylist = []\n",
    "        for i in range(1,68): #Store X and Y coordinates in two lists\n",
    "            xlist.append(float(shape.part(i).x))\n",
    "            ylist.append(float(shape.part(i).y))\n",
    "                \n",
    "#         xmean = np.mean(xlist) #Get the mean of both axes to determine centre of gravity\n",
    "#         ymean = np.mean(ylist)\n",
    "        xmean = xlist[29]\n",
    "        ymean = ylist[29]\n",
    "        xcentral = [(x-xmean) for x in xlist] #get distance between each point and the central point in both axes\n",
    "        ycentral = [(y-ymean) for y in ylist]\n",
    "        \n",
    "        # point 29 - nose tip\n",
    "        # point 26 - middle point b/w two eyes\n",
    "        cv.circle(image, (int(xlist[29]), int(ylist[29])), 1, (0,0,255))\n",
    "        \n",
    "        angle_nose = np.arctan2((ylist[26]-ymean), (xlist[26]-xmean)) * 180 / np.pi\n",
    "        if angle_nose < 0:\n",
    "            angle_nose += 90\n",
    "        else:\n",
    "            angle_nose -= 90\n",
    "            \n",
    "#         print(angle_nose)\n",
    "\n",
    "        landmarks_vectorised = []\n",
    "        for x, y, w, z in zip(xcentral, ycentral, xlist, ylist):\n",
    "            landmarks_vectorised.append(x) #Add the coordinates relative to the centre of gravity\n",
    "            landmarks_vectorised.append(y)\n",
    "\n",
    "            #Get the euclidean distance between each point and the centre point (the vector length)\n",
    "            meannp = np.asarray((ymean,xmean))\n",
    "            coornp = np.asarray((z,w))\n",
    "            dist = np.linalg.norm(coornp-meannp)\n",
    "            landmarks_vectorised.append(dist)\n",
    "\n",
    "            #Get the angle the vector describes relative to the image, corrected for the offset that the nosebrigde has when the face is not perfectly horizontal\n",
    "            anglerelative = (np.arctan2((z - ymean), (w - xmean)) * 180 / np.pi) - angle_nose\n",
    "            landmarks_vectorised.append(anglerelative)\n",
    "        \n",
    "    if len(detections) < 1: \n",
    "        landmarks_vectorised = \"error\"     \n",
    "    \n",
    "    return landmarks_vectorised"
   ]
  },
  {
   "cell_type": "code",
   "execution_count": 7,
   "metadata": {
    "collapsed": false,
    "deletable": true,
    "editable": true
   },
   "outputs": [
    {
     "name": "stdout",
     "output_type": "stream",
     "text": [
      "('train - ', 105.0227210521698)\n",
      "('test - ', 131.75428295135498)\n",
      "(19863, 19863)\n"
     ]
    }
   ],
   "source": [
    "import time\n",
    "\n",
    "def make_sets():\n",
    "    training_data = []\n",
    "    test_data = []\n",
    "    training_label = []\n",
    "    test_label = []\n",
    "    \n",
    "    #Append data to training and prediction list, and generate labels 0-7\n",
    "    index = 0\n",
    "    \n",
    "    start_time = time.time()\n",
    "    \n",
    "    for item in training_image:\n",
    "        # image = cv.imread(item) #open image\n",
    "        # gray = cv.cvtColor(image, cv.COLOR_BGR2GRAY) #convert to grayscale\n",
    "        # clahe_image = clahe.apply(gray)\n",
    "#         print(index)\n",
    "        landmarks_vectorised = get_landmarks(item)\n",
    "        if landmarks_vectorised == \"error\":\n",
    "            pass\n",
    "        else:\n",
    "            training_data.append(landmarks_vectorised) #append image array to training data list\n",
    "            training_label.append(training_label_full[index])\n",
    "            \n",
    "        index += 1\n",
    "        \n",
    "    print('train - ', time.time() - start_time)\n",
    "    \n",
    "    index = 0\n",
    "    for item in test_image:\n",
    "        # image = cv.imread(item)\n",
    "        # gray = cv.cvtColor(image, cv.COLOR_BGR2GRAY)\n",
    "        # clahe_image = clahe.apply(gray)\n",
    "#         print(index)\n",
    "        landmarks_vectorised = get_landmarks(item)\n",
    "        if landmarks_vectorised == \"error\":\n",
    "            pass\n",
    "        else:\n",
    "            test_data.append(landmarks_vectorised)\n",
    "            test_label.append(test_label_full[index])\n",
    "            \n",
    "        index += 1\n",
    "        \n",
    "    print('test - ', time.time() - start_time)\n",
    "\n",
    "    return training_data, test_data, training_label, test_label\n",
    "\n",
    "# --------------------------------------------------------\n",
    "\n",
    "train_data, test_data, training_label, test_label = make_sets()\n",
    "\n",
    "print(len(train_data), len(training_label))\n",
    "\n",
    "# pd.DataFrame(train_data)\n",
    "# pd.DataFrame(test_data)"
   ]
  },
  {
   "cell_type": "code",
   "execution_count": 8,
   "metadata": {
    "collapsed": false,
    "deletable": true,
    "editable": true
   },
   "outputs": [
    {
     "name": "stdout",
     "output_type": "stream",
     "text": [
      "('fit - ', 396.141273021698, ' sec')\n"
     ]
    }
   ],
   "source": [
    "from sklearn import svm\n",
    "\n",
    "start_time = time.time()\n",
    "\n",
    "clf = svm.SVC(kernel='rbf', gamma=2)\n",
    "clf.fit(train_data, training_label)\n",
    "\n",
    "print('fit time - ', time.time() - start_time, ' sec')"
   ]
  },
  {
   "cell_type": "code",
   "execution_count": 10,
   "metadata": {
    "collapsed": false
   },
   "outputs": [
    {
     "name": "stdout",
     "output_type": "stream",
     "text": [
      "('predict time - ', 28.47614312171936, ' sec')\n"
     ]
    }
   ],
   "source": [
    "start_time = time.time()\n",
    "predicted_labels = clf.predict(test_data)\n",
    "print('predict time - ', time.time() - start_time, ' sec')"
   ]
  },
  {
   "cell_type": "code",
   "execution_count": 12,
   "metadata": {
    "collapsed": false
   },
   "outputs": [
    {
     "name": "stdout",
     "output_type": "stream",
     "text": [
      "('Training accuracy (using kernel SVC) - ', 35.860531116967366)\n"
     ]
    }
   ],
   "source": [
    "print('Training accuracy (using kernel SVC) - ', np.mean(predicted_labels == test_label) * 100)"
   ]
  },
  {
   "cell_type": "code",
   "execution_count": 22,
   "metadata": {
    "collapsed": false,
    "deletable": true,
    "editable": true
   },
   "outputs": [
    {
     "data": {
      "text/plain": [
       "MLPClassifier(activation='relu', alpha=1e-05, batch_size='auto', beta_1=0.9,\n",
       "       beta_2=0.999, early_stopping=False, epsilon=1e-08,\n",
       "       hidden_layer_sizes=(50, 10), learning_rate='constant',\n",
       "       learning_rate_init=0.001, max_iter=500, momentum=0.9,\n",
       "       nesterovs_momentum=True, power_t=0.5, random_state=1, shuffle=True,\n",
       "       solver='lbfgs', tol=0.0001, validation_fraction=0.1, verbose=False,\n",
       "       warm_start=False)"
      ]
     },
     "execution_count": 22,
     "metadata": {},
     "output_type": "execute_result"
    }
   ],
   "source": [
    "from sklearn.neural_network import MLPClassifier\n",
    "\n",
    "nn_clf = MLPClassifier(solver='lbfgs', alpha=1e-5, hidden_layer_sizes=(50, 10), random_state=1, max_iter=500)\n",
    "nn_clf.fit(train_data, training_label)"
   ]
  },
  {
   "cell_type": "code",
   "execution_count": 23,
   "metadata": {
    "collapsed": false
   },
   "outputs": [
    {
     "name": "stdout",
     "output_type": "stream",
     "text": [
      "('predict time - ', 0.12700581550598145, ' sec')\n"
     ]
    }
   ],
   "source": [
    "start_time = time.time()\n",
    "nn_predicted_labels = nn_clf.predict(test_data)\n",
    "print('predict time - ', time.time() - start_time, ' sec')"
   ]
  },
  {
   "cell_type": "code",
   "execution_count": 24,
   "metadata": {
    "collapsed": false
   },
   "outputs": [
    {
     "name": "stdout",
     "output_type": "stream",
     "text": [
      "('Training accuracy (using MLP) - ', 27.85323332657612)\n"
     ]
    }
   ],
   "source": [
    "print('Training accuracy (using MLP) - ', np.mean(nn_predicted_labels == test_label) * 100)"
   ]
  }
 ],
 "metadata": {
  "kernelspec": {
   "display_name": "Python 2",
   "language": "python",
   "name": "python2"
  },
  "language_info": {
   "codemirror_mode": {
    "name": "ipython",
    "version": 2
   },
   "file_extension": ".py",
   "mimetype": "text/x-python",
   "name": "python",
   "nbconvert_exporter": "python",
   "pygments_lexer": "ipython2",
   "version": "2.7.13"
  }
 },
 "nbformat": 4,
 "nbformat_minor": 2
}
